{
 "cells": [
  {
   "cell_type": "code",
   "execution_count": 51,
   "metadata": {},
   "outputs": [],
   "source": [
    "import numpy as np\n",
    "import pandas as pd\n",
    "import requests\n",
    "import json\n",
    "import time"
   ]
  },
  {
   "cell_type": "code",
   "execution_count": 3,
   "metadata": {},
   "outputs": [
    {
     "data": {
      "text/html": [
       "<div>\n",
       "<style scoped>\n",
       "    .dataframe tbody tr th:only-of-type {\n",
       "        vertical-align: middle;\n",
       "    }\n",
       "\n",
       "    .dataframe tbody tr th {\n",
       "        vertical-align: top;\n",
       "    }\n",
       "\n",
       "    .dataframe thead th {\n",
       "        text-align: right;\n",
       "    }\n",
       "</style>\n",
       "<table border=\"1\" class=\"dataframe\">\n",
       "  <thead>\n",
       "    <tr style=\"text-align: right;\">\n",
       "      <th></th>\n",
       "      <th>Zip Code</th>\n",
       "      <th>Place Name</th>\n",
       "      <th>State</th>\n",
       "      <th>State Abbreviation</th>\n",
       "      <th>County</th>\n",
       "      <th>Latitude</th>\n",
       "      <th>Longitude</th>\n",
       "    </tr>\n",
       "  </thead>\n",
       "  <tbody>\n",
       "    <tr>\n",
       "      <th>0</th>\n",
       "      <td>501</td>\n",
       "      <td>Holtsville</td>\n",
       "      <td>New York</td>\n",
       "      <td>NY</td>\n",
       "      <td>Suffolk</td>\n",
       "      <td>40.8154</td>\n",
       "      <td>-73.0451</td>\n",
       "    </tr>\n",
       "    <tr>\n",
       "      <th>1</th>\n",
       "      <td>544</td>\n",
       "      <td>Holtsville</td>\n",
       "      <td>New York</td>\n",
       "      <td>NY</td>\n",
       "      <td>Suffolk</td>\n",
       "      <td>40.8154</td>\n",
       "      <td>-73.0451</td>\n",
       "    </tr>\n",
       "    <tr>\n",
       "      <th>2</th>\n",
       "      <td>1001</td>\n",
       "      <td>Agawam</td>\n",
       "      <td>Massachusetts</td>\n",
       "      <td>MA</td>\n",
       "      <td>Hampden</td>\n",
       "      <td>42.0702</td>\n",
       "      <td>-72.6227</td>\n",
       "    </tr>\n",
       "    <tr>\n",
       "      <th>3</th>\n",
       "      <td>1002</td>\n",
       "      <td>Amherst</td>\n",
       "      <td>Massachusetts</td>\n",
       "      <td>MA</td>\n",
       "      <td>Hampshire</td>\n",
       "      <td>42.3671</td>\n",
       "      <td>-72.4646</td>\n",
       "    </tr>\n",
       "    <tr>\n",
       "      <th>4</th>\n",
       "      <td>1003</td>\n",
       "      <td>Amherst</td>\n",
       "      <td>Massachusetts</td>\n",
       "      <td>MA</td>\n",
       "      <td>Hampshire</td>\n",
       "      <td>42.3919</td>\n",
       "      <td>-72.5248</td>\n",
       "    </tr>\n",
       "  </tbody>\n",
       "</table>\n",
       "</div>"
      ],
      "text/plain": [
       "   Zip Code  Place Name          State State Abbreviation     County  \\\n",
       "0       501  Holtsville       New York                 NY    Suffolk   \n",
       "1       544  Holtsville       New York                 NY    Suffolk   \n",
       "2      1001      Agawam  Massachusetts                 MA    Hampden   \n",
       "3      1002     Amherst  Massachusetts                 MA  Hampshire   \n",
       "4      1003     Amherst  Massachusetts                 MA  Hampshire   \n",
       "\n",
       "   Latitude  Longitude  \n",
       "0   40.8154   -73.0451  \n",
       "1   40.8154   -73.0451  \n",
       "2   42.0702   -72.6227  \n",
       "3   42.3671   -72.4646  \n",
       "4   42.3919   -72.5248  "
      ]
     },
     "execution_count": 3,
     "metadata": {},
     "output_type": "execute_result"
    }
   ],
   "source": [
    "df = pd.read_csv('Data/ultrasignup/us_postal_codes.csv')\n",
    "df.head()"
   ]
  },
  {
   "cell_type": "code",
   "execution_count": 12,
   "metadata": {},
   "outputs": [],
   "source": [
    "# Create list of first 3 digits for each zip code\n",
    "\n",
    "for i in range(df.shape[0]):\n",
    "    df.loc[i,'first3'] = str(df.loc[i,'Zip Code'])[0:3]"
   ]
  },
  {
   "cell_type": "code",
   "execution_count": 18,
   "metadata": {},
   "outputs": [],
   "source": [
    "df.drop_duplicates(subset='first3', inplace=True)\n",
    "df.index = range(df.shape[0])"
   ]
  },
  {
   "cell_type": "code",
   "execution_count": 20,
   "metadata": {},
   "outputs": [],
   "source": [
    "URLS = []\n",
    "for i in range(df.shape[0]):\n",
    "    lat = df.loc[i,'Latitude']\n",
    "    lng = df.loc[i,'Longitude']\n",
    "    URLS.append(f'http://ultrasignup.com/service/events.svc/closestevents?past=1&lat={lat}&lng={lng}&mi=200&mo=12&on')"
   ]
  },
  {
   "cell_type": "code",
   "execution_count": 72,
   "metadata": {},
   "outputs": [],
   "source": [
    "responses = []\n",
    "\n",
    "for i,url in enumerate(URLS):\n",
    "    responses.append(requests.get(url).json())\n",
    "    time.sleep(1)"
   ]
  },
  {
   "cell_type": "code",
   "execution_count": 89,
   "metadata": {},
   "outputs": [],
   "source": [
    "ultra_df = pd.DataFrame()\n",
    "idx = 0\n",
    "\n",
    "for i,r in enumerate(responses):\n",
    "    for j, event in enumerate(r):\n",
    "        ultra_df.loc[idx, 'State'] = event['State']\n",
    "        ultra_df.loc[idx, 'City'] = event['City']\n",
    "        ultra_df.loc[idx, 'Event'] = event['EventName']\n",
    "        ultra_df.loc[idx, 'Latitude'] = event['Latitude']\n",
    "        ultra_df.loc[idx, 'Longitude'] = event['Longitude']\n",
    "        ultra_df.loc[idx, 'Date'] = event['EventDate']\n",
    "        idx += 1"
   ]
  },
  {
   "cell_type": "code",
   "execution_count": 91,
   "metadata": {},
   "outputs": [],
   "source": [
    "ultra_df.drop_duplicates(subset='Event', inplace=True)"
   ]
  },
  {
   "cell_type": "code",
   "execution_count": 93,
   "metadata": {},
   "outputs": [],
   "source": [
    "ultra_df.to_csv('Data/ultrasignup/ultrasignup.csv')"
   ]
  }
 ],
 "metadata": {
  "kernelspec": {
   "display_name": "Python 3",
   "language": "python",
   "name": "python3"
  },
  "language_info": {
   "codemirror_mode": {
    "name": "ipython",
    "version": 3
   },
   "file_extension": ".py",
   "mimetype": "text/x-python",
   "name": "python",
   "nbconvert_exporter": "python",
   "pygments_lexer": "ipython3",
   "version": "3.6.8"
  }
 },
 "nbformat": 4,
 "nbformat_minor": 2
}
